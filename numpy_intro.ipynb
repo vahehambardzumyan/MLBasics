{
 "cells": [
  {
   "cell_type": "code",
   "execution_count": null,
   "metadata": {},
   "outputs": [],
   "source": [
    "%pip install numpy"
   ]
  },
  {
   "cell_type": "code",
   "execution_count": 22,
   "metadata": {},
   "outputs": [],
   "source": [
    "import numpy as np "
   ]
  },
  {
   "cell_type": "markdown",
   "metadata": {},
   "source": [
    "1) Create a NumPy array: Create a 1D NumPy array with the numbers 1 through 10."
   ]
  },
  {
   "cell_type": "code",
   "execution_count": 29,
   "metadata": {},
   "outputs": [
    {
     "name": "stdout",
     "output_type": "stream",
     "text": [
      "[ 1  2  3  4  5  6  7  8  9 10]\n",
      "[ 1  2  3  4  5  6  7  8  9 10]\n"
     ]
    }
   ],
   "source": [
    "import numpy as np \n",
    "arr1 = np.array([1,2,3,4,5,6,7,8,9,10]) ## version 1\n",
    "print(arr1)\n",
    "arr2 = np.arange(1,11) # version 2\n",
    "print(arr2)"
   ]
  },
  {
   "cell_type": "markdown",
   "metadata": {},
   "source": [
    "2) Array indexing: Access the 5th element of a NumPy array containing the numbers 1 through 10."
   ]
  },
  {
   "cell_type": "code",
   "execution_count": 30,
   "metadata": {},
   "outputs": [
    {
     "name": "stdout",
     "output_type": "stream",
     "text": [
      "6\n"
     ]
    }
   ],
   "source": [
    "import numpy as np \n",
    "arr3 = np.arange(1,11)\n",
    "print(arr3[5])\n"
   ]
  },
  {
   "cell_type": "markdown",
   "metadata": {},
   "source": [
    "3) Array slicing: Create a NumPy array with the numbers 1 through 10 and slice it to get the first 5 elements."
   ]
  },
  {
   "cell_type": "code",
   "execution_count": 31,
   "metadata": {},
   "outputs": [
    {
     "name": "stdout",
     "output_type": "stream",
     "text": [
      "[1 2 3 4 5]\n"
     ]
    }
   ],
   "source": [
    "import numpy as np \n",
    "arr4 = np.arange(1,11)\n",
    "print(arr4[:5])\n"
   ]
  },
  {
   "cell_type": "markdown",
   "metadata": {},
   "source": [
    "4) Basic arithmetic: Perform element-wise addition, subtraction, multiplication, and division on two 1D arrays."
   ]
  },
  {
   "cell_type": "code",
   "execution_count": 34,
   "metadata": {},
   "outputs": [
    {
     "name": "stdout",
     "output_type": "stream",
     "text": [
      "[ 2  4  6 12]\n",
      "[0 0 0 0]\n",
      "[ 1  4  9 36]\n",
      "[1 2 3 6]\n",
      "[1 2 3 0]\n"
     ]
    },
    {
     "name": "stderr",
     "output_type": "stream",
     "text": [
      "/var/folders/_s/g54k_qps0dl4jnczql8p3x940000gn/T/ipykernel_1416/139172400.py:14: RuntimeWarning: divide by zero encountered in floor_divide\n",
      "  print(arr51//arr54)\n"
     ]
    }
   ],
   "source": [
    "import numpy as np \n",
    "\n",
    "arr51=np.array([1,2,3,6])\n",
    "arr52=np.array([1,2,3,6])\n",
    "arr53=np.array([1,1,1,1])\n",
    "arr54=np.array([1,1,1,0])\n",
    "\n",
    "print(arr51+arr52)\n",
    "print(arr51-arr52)\n",
    "print(arr51*arr52)\n",
    "print(arr51//arr53)\n",
    "\n",
    "\n",
    "print(arr51//arr54) ## Runtime warning \n"
   ]
  },
  {
   "cell_type": "markdown",
   "metadata": {},
   "source": [
    "5) Reshape array: Create a 1D array of 9 elements and reshape it into a 3x3 matrix."
   ]
  },
  {
   "cell_type": "code",
   "execution_count": 38,
   "metadata": {},
   "outputs": [
    {
     "name": "stdout",
     "output_type": "stream",
     "text": [
      "[[0 1 2]\n",
      " [3 4 5]\n",
      " [6 7 8]]\n"
     ]
    }
   ],
   "source": [
    "import numpy as np \n",
    "arr6 = np.arange(9)\n",
    "print(arr6.reshape(3,3))"
   ]
  },
  {
   "cell_type": "markdown",
   "metadata": {},
   "source": [
    "6) Array statistics: Find the mean, median, and standard deviation of a NumPy array of random numbers."
   ]
  },
  {
   "cell_type": "code",
   "execution_count": 104,
   "metadata": {},
   "outputs": [
    {
     "name": "stdout",
     "output_type": "stream",
     "text": [
      "[[9 8 7 9 2 8 4 3 3 8]]\n",
      "6.1\n",
      "7.5\n",
      "2.6248809496813377\n"
     ]
    }
   ],
   "source": [
    "import numpy as np \n",
    "arr7 = np.random.randint(1,10,(1,10))\n",
    "meaned= np.mean(arr7)\n",
    "medianed= np.median(arr7)\n",
    "stdvar=np.std(arr7)\n",
    "print(arr7)\n",
    "print(meaned) ## mijin\n",
    "print(medianed)  ## mechtexi tiv ete achman kargov enq sharum \n",
    "print(stdvar) ## mijin hanac amen mi andmay u armati tak "
   ]
  },
  {
   "cell_type": "markdown",
   "metadata": {},
   "source": [
    "7) Broadcasting: Add a 1D array [1, 2, 3] to a 3x3 matrix."
   ]
  },
  {
   "cell_type": "code",
   "execution_count": 138,
   "metadata": {},
   "outputs": [
    {
     "name": "stdout",
     "output_type": "stream",
     "text": [
      "[[8 2 5]\n",
      " [6 9 6]\n",
      " [9 1 2]]\n",
      "[[ 9  4  8]\n",
      " [ 7 11  9]\n",
      " [10  3  5]]\n"
     ]
    }
   ],
   "source": [
    "import numpy as np \n",
    "matrix1 =np.random.randint(1,10, (3,3))\n",
    "arrr= np.array([1,2,3])\n",
    "print(matrix1, )\n",
    "print(matrix1+arrr)"
   ]
  },
  {
   "cell_type": "markdown",
   "metadata": {},
   "source": [
    "8) Matrix multiplication: Multiply two 2D arrays (matrices) together using NumPy."
   ]
  },
  {
   "cell_type": "code",
   "execution_count": 167,
   "metadata": {},
   "outputs": [
    {
     "name": "stdout",
     "output_type": "stream",
     "text": [
      "[[100  55 100]\n",
      " [115 101 133]\n",
      " [ 58  55  90]]\n"
     ]
    }
   ],
   "source": [
    "import numpy as np \n",
    "mtrx1=np.random.randint(1,10,(3,3))\n",
    "mtrx2=np.random.randint(1,10,(3,3))\n",
    "print(mtrx1.dot(mtrx2))"
   ]
  },
  {
   "cell_type": "markdown",
   "metadata": {},
   "source": [
    "9) Array stacking: Stack two 1D arrays vertically and horizontally"
   ]
  },
  {
   "cell_type": "code",
   "execution_count": 217,
   "metadata": {},
   "outputs": [
    {
     "name": "stdout",
     "output_type": "stream",
     "text": [
      "[[1 3 1 3]\n",
      " [2 3 2 3]]\n",
      "[[1 3]\n",
      " [2 3]\n",
      " [1 3]\n",
      " [2 3]]\n"
     ]
    }
   ],
   "source": [
    "import numpy as np \n",
    "starr1= numpy.random.randint(1,5,(2,2)) ## there my arrays aren't 1D\n",
    "starr2= numpy.random.randint(1,5,(2,2))\n",
    "\n",
    "sth= np.hstack((starr1, starr2))\n",
    "print(sth)\n",
    "\n",
    "stv= np.vstack((starr1, starr2))\n",
    "print(stv)\n"
   ]
  },
  {
   "cell_type": "markdown",
   "metadata": {},
   "source": [
    "+ 10) Element-wise operations: Apply a function (e.g., np.sin(), np.exp()) element-wise to a NumPy array."
   ]
  },
  {
   "cell_type": "code",
   "execution_count": 199,
   "metadata": {},
   "outputs": [
    {
     "name": "stdout",
     "output_type": "stream",
     "text": [
      "[ 0.          0.84147098  0.90929743  0.14112001 -0.7568025 ]\n",
      "[ 1.          2.71828183  7.3890561  20.08553692 54.59815003]\n"
     ]
    }
   ],
   "source": [
    "import numpy as np \n",
    "arr128=np.array([0,1,2,3,4])\n",
    "print(np.sin(arr128))\n",
    "print(np.exp(arr128))"
   ]
  },
  {
   "cell_type": "markdown",
   "metadata": {},
   "source": [
    "+ 11) Array of zeros with specific data type: Create a 4x4 matrix of zeros with a data type of float64 using np.zeros()."
   ]
  },
  {
   "cell_type": "code",
   "execution_count": 234,
   "metadata": {},
   "outputs": [
    {
     "data": {
      "text/plain": [
       "array([[0., 0., 0., 0.],\n",
       "       [0., 0., 0., 0.],\n",
       "       [0., 0., 0., 0.],\n",
       "       [0., 0., 0., 0.]])"
      ]
     },
     "execution_count": 234,
     "metadata": {},
     "output_type": "execute_result"
    }
   ],
   "source": [
    "import numpy as np\n",
    "zer= np.zeros((4,4), dtype='float64')\n",
    "zer"
   ]
  },
  {
   "cell_type": "markdown",
   "metadata": {},
   "source": [
    "+ 12) Matrix manipulation: Create a 5x5 matrix of zeros and set the diagonal elements to ones."
   ]
  },
  {
   "cell_type": "code",
   "execution_count": 228,
   "metadata": {},
   "outputs": [
    {
     "data": {
      "text/plain": [
       "array([[1, 0, 0, 0, 0],\n",
       "       [0, 1, 0, 0, 0],\n",
       "       [0, 0, 1, 0, 0],\n",
       "       [0, 0, 0, 1, 0],\n",
       "       [0, 0, 0, 0, 1]])"
      ]
     },
     "execution_count": 228,
     "metadata": {},
     "output_type": "execute_result"
    }
   ],
   "source": [
    "import numpy as np\n",
    "diag = np.eye(5, dtype=\"int\")\n",
    "diag"
   ]
  },
  {
   "cell_type": "markdown",
   "metadata": {},
   "source": [
    "+ 13) Unique elements: Find the unique elements of a NumPy array and count their occurrences."
   ]
  },
  {
   "cell_type": "code",
   "execution_count": 589,
   "metadata": {},
   "outputs": [
    {
     "name": "stdout",
     "output_type": "stream",
     "text": [
      "[1 2 3 5 6 7 9] Oringinal List\n",
      "[1 1 1 2 2 2 1] Their occorecies\n"
     ]
    }
   ],
   "source": [
    "import numpy as np\n",
    "ar13=np.random.randint(1, 10, (10,1))\n",
    "counts=np.unique_counts(ar13)\n",
    "\n",
    "print(counts.values, \"Oringinal List\")\n",
    "print(counts.counts, \"Their occurecies\")\n"
   ]
  },
  {
   "cell_type": "markdown",
   "metadata": {},
   "source": [
    "+ 14) Random numbers: Generate an array of 10 random integers between 1 and 100."
   ]
  },
  {
   "cell_type": "code",
   "execution_count": 601,
   "metadata": {},
   "outputs": [
    {
     "data": {
      "text/plain": [
       "array([ 9, 72, 53, 91, 74, 65, 42, 68, 34, 41])"
      ]
     },
     "execution_count": 601,
     "metadata": {},
     "output_type": "execute_result"
    }
   ],
   "source": [
    "import numpy as np\n",
    "ar14= np.random.randint(1,100,(10,))\n",
    "ar14"
   ]
  },
  {
   "cell_type": "markdown",
   "metadata": {},
   "source": [
    "+ 15) Array comparison: Compare two NumPy arrays and return an array of boolean values where the elements are equal."
   ]
  },
  {
   "cell_type": "code",
   "execution_count": 640,
   "metadata": {},
   "outputs": [
    {
     "name": "stdout",
     "output_type": "stream",
     "text": [
      "[False False False False False  True False False False False]\n"
     ]
    }
   ],
   "source": [
    "import numpy as np\n",
    "ar15_1=np.random.randint(1,5,(10,))\n",
    "ar15_2=np.random.randint(1,5,(10,))\n",
    "print((ar15_1== ar15_2))"
   ]
  },
  {
   "cell_type": "markdown",
   "metadata": {},
   "source": [
    "+ 16) Sorting and searching: Sort a NumPy array and find the index of the maximum element."
   ]
  },
  {
   "cell_type": "code",
   "execution_count": 649,
   "metadata": {},
   "outputs": [
    {
     "name": "stdout",
     "output_type": "stream",
     "text": [
      "[ 6 10 12 20 30 42 50 63 82 92]\n",
      "92\n"
     ]
    }
   ],
   "source": [
    "import numpy as np\n",
    "ar16= np.random.randint(1,100,(10,))\n",
    "print(numpy.sort(ar16))\n",
    "print(numpy.sort(ar16)[-1])"
   ]
  },
  {
   "cell_type": "markdown",
   "metadata": {},
   "source": [
    "+ 17)  Install PyTorch and Verify Setup:Install PyTorch on your system and verify the installation by running a simple code to check the version and ensure it's working."
   ]
  },
  {
   "cell_type": "code",
   "execution_count": 220,
   "metadata": {},
   "outputs": [
    {
     "name": "stdout",
     "output_type": "stream",
     "text": [
      "Collecting torch\n",
      "  Downloading torch-2.6.0-cp313-none-macosx_11_0_arm64.whl.metadata (28 kB)\n",
      "Collecting filelock (from torch)\n",
      "  Downloading filelock-3.17.0-py3-none-any.whl.metadata (2.9 kB)\n",
      "Collecting typing-extensions>=4.10.0 (from torch)\n",
      "  Downloading typing_extensions-4.12.2-py3-none-any.whl.metadata (3.0 kB)\n",
      "Collecting networkx (from torch)\n",
      "  Downloading networkx-3.4.2-py3-none-any.whl.metadata (6.3 kB)\n",
      "Collecting jinja2 (from torch)\n",
      "  Downloading jinja2-3.1.5-py3-none-any.whl.metadata (2.6 kB)\n",
      "Collecting fsspec (from torch)\n",
      "  Downloading fsspec-2025.2.0-py3-none-any.whl.metadata (11 kB)\n",
      "Collecting setuptools (from torch)\n",
      "  Using cached setuptools-75.8.0-py3-none-any.whl.metadata (6.7 kB)\n",
      "Collecting sympy==1.13.1 (from torch)\n",
      "  Downloading sympy-1.13.1-py3-none-any.whl.metadata (12 kB)\n",
      "Collecting mpmath<1.4,>=1.1.0 (from sympy==1.13.1->torch)\n",
      "  Downloading mpmath-1.3.0-py3-none-any.whl.metadata (8.6 kB)\n",
      "Collecting MarkupSafe>=2.0 (from jinja2->torch)\n",
      "  Downloading MarkupSafe-3.0.2-cp313-cp313-macosx_11_0_arm64.whl.metadata (4.0 kB)\n",
      "Downloading torch-2.6.0-cp313-none-macosx_11_0_arm64.whl (66.5 MB)\n",
      "\u001b[2K   \u001b[90m━━━━━━━━━━━━━━━━━━━━━━━━━━━━━━━━━━━━━━━━\u001b[0m \u001b[32m66.5/66.5 MB\u001b[0m \u001b[31m284.6 kB/s\u001b[0m eta \u001b[36m0:00:00\u001b[0m00:01\u001b[0m00:08\u001b[0m\n",
      "\u001b[?25hDownloading sympy-1.13.1-py3-none-any.whl (6.2 MB)\n",
      "\u001b[2K   \u001b[90m━━━━━━━━━━━━━━━━━━━━━━━━━━━━━━━━━━━━━━━━\u001b[0m \u001b[32m6.2/6.2 MB\u001b[0m \u001b[31m551.5 kB/s\u001b[0m eta \u001b[36m0:00:00\u001b[0ma \u001b[36m0:00:01\u001b[0m\n",
      "\u001b[?25hDownloading typing_extensions-4.12.2-py3-none-any.whl (37 kB)\n",
      "Downloading filelock-3.17.0-py3-none-any.whl (16 kB)\n",
      "Downloading fsspec-2025.2.0-py3-none-any.whl (184 kB)\n",
      "Downloading jinja2-3.1.5-py3-none-any.whl (134 kB)\n",
      "Downloading networkx-3.4.2-py3-none-any.whl (1.7 MB)\n",
      "\u001b[2K   \u001b[90m━━━━━━━━━━━━━━━━━━━━━━━━━━━━━━━━━━━━━━━━\u001b[0m \u001b[32m1.7/1.7 MB\u001b[0m \u001b[31m335.8 kB/s\u001b[0m eta \u001b[36m0:00:00\u001b[0ma \u001b[36m0:00:01\u001b[0m\n",
      "\u001b[?25hUsing cached setuptools-75.8.0-py3-none-any.whl (1.2 MB)\n",
      "Downloading MarkupSafe-3.0.2-cp313-cp313-macosx_11_0_arm64.whl (12 kB)\n",
      "Downloading mpmath-1.3.0-py3-none-any.whl (536 kB)\n",
      "\u001b[2K   \u001b[90m━━━━━━━━━━━━━━━━━━━━━━━━━━━━━━━━━━━━━━━\u001b[0m \u001b[32m536.2/536.2 kB\u001b[0m \u001b[31m434.7 kB/s\u001b[0m eta \u001b[36m0:00:00\u001b[0m00:01\u001b[0mm\n",
      "\u001b[?25hInstalling collected packages: mpmath, typing-extensions, sympy, setuptools, networkx, MarkupSafe, fsspec, filelock, jinja2, torch\n",
      "Successfully installed MarkupSafe-3.0.2 filelock-3.17.0 fsspec-2025.2.0 jinja2-3.1.5 mpmath-1.3.0 networkx-3.4.2 setuptools-75.8.0 sympy-1.13.1 torch-2.6.0 typing-extensions-4.12.2\n",
      "\n",
      "\u001b[1m[\u001b[0m\u001b[34;49mnotice\u001b[0m\u001b[1;39;49m]\u001b[0m\u001b[39;49m A new release of pip is available: \u001b[0m\u001b[31;49m24.3.1\u001b[0m\u001b[39;49m -> \u001b[0m\u001b[32;49m25.0.1\u001b[0m\n",
      "\u001b[1m[\u001b[0m\u001b[34;49mnotice\u001b[0m\u001b[1;39;49m]\u001b[0m\u001b[39;49m To update, run: \u001b[0m\u001b[32;49mpip install --upgrade pip\u001b[0m\n",
      "Note: you may need to restart the kernel to use updated packages.\n"
     ]
    }
   ],
   "source": [
    "%pip install torch"
   ]
  },
  {
   "cell_type": "code",
   "execution_count": 225,
   "metadata": {},
   "outputs": [
    {
     "name": "stdout",
     "output_type": "stream",
     "text": [
      "Name: torch\n",
      "Version: 2.6.0\n",
      "Summary: Tensors and Dynamic neural networks in Python with strong GPU acceleration\n",
      "Home-page: https://pytorch.org/\n",
      "Author: PyTorch Team\n",
      "Author-email: packages@pytorch.org\n",
      "License: BSD-3-Clause\n",
      "Location: /Library/Frameworks/Python.framework/Versions/3.13/lib/python3.13/site-packages\n",
      "Requires: filelock, fsspec, jinja2, networkx, setuptools, sympy, typing-extensions\n",
      "Required-by: \n",
      "Note: you may need to restart the kernel to use updated packages.\n"
     ]
    }
   ],
   "source": [
    "%pip show torch"
   ]
  },
  {
   "cell_type": "code",
   "execution_count": 651,
   "metadata": {},
   "outputs": [
    {
     "data": {
      "text/plain": [
       "tensor([[1., 0., 0.],\n",
       "        [0., 1., 0.],\n",
       "        [0., 0., 1.]])"
      ]
     },
     "execution_count": 651,
     "metadata": {},
     "output_type": "execute_result"
    }
   ],
   "source": [
    "import torch \n",
    "t= torch.eye(3)\n",
    "t"
   ]
  },
  {
   "cell_type": "markdown",
   "metadata": {},
   "source": [
    "+ 18) Tensors Basics:Create a 2D tensor of shape (3, 3) filled with zeros. Then, create a tensor filled with ones and add both tensors together."
   ]
  },
  {
   "cell_type": "code",
   "execution_count": 658,
   "metadata": {},
   "outputs": [
    {
     "name": "stdout",
     "output_type": "stream",
     "text": [
      "tensor([[1., 1., 1.],\n",
      "        [1., 1., 1.],\n",
      "        [1., 1., 1.]])\n",
      "tensor([[0., 0., 0., 1., 1., 1.],\n",
      "        [0., 0., 0., 1., 1., 1.],\n",
      "        [0., 0., 0., 1., 1., 1.]])\n"
     ]
    }
   ],
   "source": [
    "import torch\n",
    "t_18=torch.zeros(3,3)\n",
    "o_18=torch.ones(3,3)\n",
    "print(t_18+o_18)\n",
    "print(torch.hstack((t_18,o_18)))"
   ]
  },
  {
   "cell_type": "markdown",
   "metadata": {},
   "source": [
    "+ 19) Tensor Operations: Create two tensors, A and B, of size (3, 3). Perform element-wise addition, subtraction, multiplication, and division on them."
   ]
  },
  {
   "cell_type": "code",
   "execution_count": 664,
   "metadata": {},
   "outputs": [
    {
     "name": "stdout",
     "output_type": "stream",
     "text": [
      "tensor([[ 5, 11, 12],\n",
      "        [ 8, 13,  7],\n",
      "        [ 5,  6, 12]])\n",
      "tensor([[ 3, -1, -4],\n",
      "        [ 0, -3, -1],\n",
      "        [-3, -2,  4]])\n",
      "tensor([[ 4, 30, 32],\n",
      "        [16, 40, 12],\n",
      "        [ 4,  8, 32]])\n",
      "tensor([[4, 0, 0],\n",
      "        [1, 0, 0],\n",
      "        [0, 0, 2]])\n"
     ]
    }
   ],
   "source": [
    "import torch\n",
    "A=torch.randint(1,9,(3,3))\n",
    "B=torch.randint(1,9,(3,3))\n",
    "\n",
    "print(A+B)\n",
    "print(A-B)\n",
    "print(A*B)\n",
    "print(A//B)"
   ]
  },
  {
   "cell_type": "markdown",
   "metadata": {},
   "source": [
    "+ 20) Tensor Indexing and Slicing: Create a tensor of shape (4, 4). Slice the tensor to extract a sub-tensor of shape (2, 2) from the bottom-right corner"
   ]
  },
  {
   "cell_type": "code",
   "execution_count": 666,
   "metadata": {},
   "outputs": [
    {
     "name": "stdout",
     "output_type": "stream",
     "text": [
      "tensor([[6, 3, 4, 4],\n",
      "        [5, 6, 7, 3],\n",
      "        [4, 1, 1, 8],\n",
      "        [7, 1, 8, 8]])\n",
      "tensor([[1, 8],\n",
      "        [8, 8]])\n"
     ]
    }
   ],
   "source": [
    "import torch\n",
    "\n",
    "A=torch.randint(1,9,(4,4))\n",
    "print(A)\n",
    "print(A[2:,2:])"
   ]
  },
  {
   "cell_type": "markdown",
   "metadata": {},
   "source": [
    "+ 21) Reshaping Tensors: Create a tensor of shape (8, 4). Reshape it into a tensor of shape (4, 8) and verify the new shape."
   ]
  },
  {
   "cell_type": "code",
   "execution_count": 672,
   "metadata": {},
   "outputs": [
    {
     "name": "stdout",
     "output_type": "stream",
     "text": [
      "tensor([[1, 2, 4, 3, 5, 4, 1, 7],\n",
      "        [5, 3, 8, 8, 4, 7, 8, 1],\n",
      "        [3, 1, 4, 3, 4, 6, 7, 8],\n",
      "        [3, 8, 3, 4, 3, 2, 5, 6]])\n",
      "tensor([[1, 2, 4, 3],\n",
      "        [5, 4, 1, 7],\n",
      "        [5, 3, 8, 8],\n",
      "        [4, 7, 8, 1],\n",
      "        [3, 1, 4, 3],\n",
      "        [4, 6, 7, 8],\n",
      "        [3, 8, 3, 4],\n",
      "        [3, 2, 5, 6]])\n"
     ]
    }
   ],
   "source": [
    "import torch\n",
    "\n",
    "A=torch.randint(1,9,(4,8))\n",
    "print(A)\n",
    "print(A.reshape(8,4))"
   ]
  },
  {
   "cell_type": "markdown",
   "metadata": {},
   "source": [
    "22) Matrix Multiplication: Create two tensors A and B with shapes (3, 2) and (2, 3), respectively. Perform matrix multiplication using PyTorch’s mm() function. "
   ]
  },
  {
   "cell_type": "code",
   "execution_count": 685,
   "metadata": {},
   "outputs": [
    {
     "name": "stdout",
     "output_type": "stream",
     "text": [
      "tensor([[8, 4],\n",
      "        [6, 2],\n",
      "        [8, 5]])\n",
      "tensor([[5, 6, 6],\n",
      "        [1, 1, 7]])\n",
      "tensor([[44, 52, 76],\n",
      "        [32, 38, 50],\n",
      "        [45, 53, 83]])\n"
     ]
    }
   ],
   "source": [
    "import torch\n",
    "\n",
    "A=torch.randint(1,9,(3,2))\n",
    "B=torch.randint(1,9,(2,3))\n",
    "print(A)\n",
    "print(B)\n",
    "mult = torch.mm(A, B)\n",
    "print(mult)"
   ]
  }
 ],
 "metadata": {
  "kernelspec": {
   "display_name": "Python 3",
   "language": "python",
   "name": "python3"
  },
  "language_info": {
   "codemirror_mode": {
    "name": "ipython",
    "version": 3
   },
   "file_extension": ".py",
   "mimetype": "text/x-python",
   "name": "python",
   "nbconvert_exporter": "python",
   "pygments_lexer": "ipython3",
   "version": "3.13.0"
  }
 },
 "nbformat": 4,
 "nbformat_minor": 2
}
